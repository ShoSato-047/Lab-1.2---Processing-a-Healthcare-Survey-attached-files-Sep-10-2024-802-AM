{
 "cells": [
  {
   "cell_type": "code",
   "execution_count": 16,
   "id": "276a4ea8-31e6-44b8-a555-282e21bc2e38",
   "metadata": {},
   "outputs": [],
   "source": [
    "import polars as pl"
   ]
  },
  {
   "cell_type": "code",
   "execution_count": 17,
   "id": "3aea1a50-d50e-4828-bd5e-60a983fe4b25",
   "metadata": {},
   "outputs": [
    {
     "name": "stdout",
     "output_type": "stream",
     "text": [
      "Requirement already satisfied: pyarrow in c:\\users\\mp5667di\\appdata\\local\\anaconda3\\envs\\polars2\\lib\\site-packages (17.0.0)\n",
      "Requirement already satisfied: numpy>=1.16.6 in c:\\users\\mp5667di\\appdata\\local\\anaconda3\\envs\\polars2\\lib\\site-packages (from pyarrow) (2.1.1)\n",
      "Note: you may need to restart the kernel to use updated packages.\n"
     ]
    }
   ],
   "source": [
    "pip install pyarrow"
   ]
  },
  {
   "cell_type": "code",
   "execution_count": 18,
   "id": "0f0b5199-f3f5-4c76-b1aa-0c88f7faa945",
   "metadata": {},
   "outputs": [
    {
     "name": "stdout",
     "output_type": "stream",
     "text": [
      " Volume in drive C is Windows\n",
      " Volume Serial Number is 5E9C-93AA\n",
      "\n",
      " Directory of C:\\Users\\mp5667di\\Desktop\\WSU___Fall__2024\\DSCI_326\\lab_1.2\\Lab 1.2 - Processing a Healthcare Survey\n",
      "\n",
      "09/10/2024  05:15 PM    <DIR>          .\n",
      "09/10/2024  04:59 PM    <DIR>          ..\n",
      "09/10/2024  08:25 AM                66 .gitattributes\n",
      "09/10/2024  09:04 AM    <DIR>          .ipynb_checkpoints\n",
      "09/10/2024  05:04 PM    <DIR>          data\n",
      "09/10/2024  08:22 AM           402,064 lab1_2_processing_health_survey.docx\n",
      "09/10/2024  05:15 PM            22,018 lab_1.2_healthcare_survey.ipynb\n",
      "09/10/2024  08:25 AM                87 README.md\n",
      "               4 File(s)        424,235 bytes\n",
      "               4 Dir(s)  32,873,848,832 bytes free\n"
     ]
    }
   ],
   "source": [
    "!dir"
   ]
  },
  {
   "cell_type": "code",
   "execution_count": 19,
   "id": "d5f44810-bc51-4350-9f86-e0e347b58e2a",
   "metadata": {},
   "outputs": [
    {
     "data": {
      "text/html": [
       "<div><style>\n",
       ".dataframe > thead > tr,\n",
       ".dataframe > tbody > tr {\n",
       "  text-align: right;\n",
       "  white-space: pre-wrap;\n",
       "}\n",
       "</style>\n",
       "<small>shape: (2, 46)</small><table border=\"1\" class=\"dataframe\"><thead><tr><th>Participant</th><th></th><th>F1</th><th>F5</th><th>F2</th><th>F1.1</th><th>F2.1</th><th>F6</th><th>F4</th><th>F3</th><th>F5.1</th><th>F1.2</th><th>F2.2</th><th>F6.1</th><th>F2.3</th><th>F4.1</th><th>F2.4</th><th>F5.2</th><th>F2.5</th><th>F6.2</th><th>F1.3</th><th>F2.6</th><th>F5.3</th><th>F4.2</th><th>F2.7</th><th>F3.1</th><th>F2.8</th><th>F5.4</th><th>F3.2</th><th>F1.4</th><th>F3.3</th><th>F1.5</th><th>F5.5</th><th>F6.3</th><th>F1.6</th><th>F5.6</th><th>F2.9</th><th>F3.4</th><th>F4.3</th><th>F2.10</th><th>F1.7</th><th>F6.4</th><th>F4.4</th><th>F5.7</th><th>F3.5</th><th>F2.11</th></tr><tr><td>u32</td><td>i64</td><td>str</td><td>str</td><td>str</td><td>str</td><td>str</td><td>str</td><td>str</td><td>str</td><td>str</td><td>str</td><td>str</td><td>str</td><td>str</td><td>str</td><td>str</td><td>str</td><td>str</td><td>str</td><td>str</td><td>str</td><td>str</td><td>str</td><td>str</td><td>str</td><td>str</td><td>str</td><td>str</td><td>str</td><td>str</td><td>str</td><td>str</td><td>str</td><td>str</td><td>str</td><td>str</td><td>str</td><td>str</td><td>str</td><td>str</td><td>str</td><td>str</td><td>str</td><td>str</td><td>str</td></tr></thead><tbody><tr><td>1</td><td>1</td><td>&quot;Somewhat Agree&quot;</td><td>&quot;Somewhat Disagree&quot;</td><td>&quot;Somewhat Agree&quot;</td><td>&quot;Somewhat Agree&quot;</td><td>&quot;Somewhat Agree&quot;</td><td>&quot;Somewhat Disagree&quot;</td><td>&quot;Somewhat Agree&quot;</td><td>&quot;Somewhat Agree&quot;</td><td>&quot;Somewhat Agree&quot;</td><td>&quot;Somewhat Agree&quot;</td><td>&quot;Somewhat Agree&quot;</td><td>&quot;Somewhat Agree&quot;</td><td>&quot;Somewhat Agree&quot;</td><td>&quot;Somewhat Agree&quot;</td><td>&quot;Somewhat Agree&quot;</td><td>&quot;Somewhat Agree&quot;</td><td>&quot;Somewhat Agree&quot;</td><td>&quot;Somewhat Agree&quot;</td><td>&quot;Somewhat Agree&quot;</td><td>&quot;Somewhat Agree&quot;</td><td>&quot;Somewhat Agree&quot;</td><td>&quot;Somewhat Agree&quot;</td><td>&quot;Somewhat Agree&quot;</td><td>&quot;Somewhat Disagree&quot;</td><td>&quot;Somewhat Agree&quot;</td><td>&quot;Somewhat Agree&quot;</td><td>&quot;Somewhat Agree&quot;</td><td>&quot;Neither Agree nor Disagree&quot;</td><td>&quot;Somewhat Agree&quot;</td><td>&quot;Somewhat Agree&quot;</td><td>&quot;Somewhat Disagree&quot;</td><td>&quot;Somewhat Disagree&quot;</td><td>&quot;Somewhat Agree&quot;</td><td>&quot;Somewhat Agree&quot;</td><td>&quot;Somewhat Agree&quot;</td><td>&quot;Somewhat Disagree&quot;</td><td>&quot;Neither Agree nor Disagree&quot;</td><td>&quot;Somewhat Agree&quot;</td><td>&quot;Somewhat Agree&quot;</td><td>&quot;Somewhat Agree&quot;</td><td>&quot;Somewhat Agree&quot;</td><td>&quot;Somewhat Agree&quot;</td><td>&quot;Somewhat Agree&quot;</td><td>&quot;Somewhat Agree&quot;</td></tr><tr><td>2</td><td>2</td><td>&quot;Somewhat Agree&quot;</td><td>&quot;Somewhat Disagree&quot;</td><td>&quot;Somewhat Agree&quot;</td><td>&quot;Somewhat Agree&quot;</td><td>&quot;Somewhat Agree&quot;</td><td>&quot;Somewhat Disagree&quot;</td><td>&quot;Somewhat Agree&quot;</td><td>&quot;Neither Agree nor Disagree&quot;</td><td>&quot;Neither Agree nor Disagree&quot;</td><td>&quot;Somewhat Agree&quot;</td><td>&quot;Neither Agree nor Disagree&quot;</td><td>&quot;Somewhat Agree&quot;</td><td>&quot;Somewhat Agree&quot;</td><td>&quot;Neither Agree nor Disagree&quot;</td><td>&quot;Somewhat Agree&quot;</td><td>&quot;Somewhat Agree&quot;</td><td>&quot;Somewhat Agree&quot;</td><td>&quot;Somewhat Agree&quot;</td><td>&quot;Somewhat Agree&quot;</td><td>&quot;Somewhat Agree&quot;</td><td>&quot;Somewhat Agree&quot;</td><td>&quot;Somewhat Agree&quot;</td><td>&quot;Somewhat Agree&quot;</td><td>&quot;Neither Agree nor Disagree&quot;</td><td>&quot;Somewhat Agree&quot;</td><td>&quot;Neither Agree nor Disagree&quot;</td><td>&quot;Neither Agree nor Disagree&quot;</td><td>&quot;Somewhat Agree&quot;</td><td>&quot;Neither Agree nor Disagree&quot;</td><td>&quot;Neither Agree nor Disagree&quot;</td><td>&quot;Neither Agree nor Disagree&quot;</td><td>&quot;Somewhat Disagree&quot;</td><td>&quot;Somewhat Agree&quot;</td><td>&quot;Somewhat Disagree&quot;</td><td>&quot;Somewhat Agree&quot;</td><td>&quot;Somewhat Agree&quot;</td><td>&quot;Neither Agree nor Disagree&quot;</td><td>&quot;Somewhat Agree&quot;</td><td>&quot;Somewhat Agree&quot;</td><td>&quot;Somewhat Disagree&quot;</td><td>&quot;Neither Agree nor Disagree&quot;</td><td>&quot;Somewhat Agree&quot;</td><td>&quot;Neither Agree nor Disagree&quot;</td><td>&quot;Somewhat Agree&quot;</td></tr></tbody></table></div>"
      ],
      "text/plain": [
       "shape: (2, 46)\n",
       "┌────────────┬─────┬────────────┬────────────┬───┬────────────┬────────────┬───────────┬───────────┐\n",
       "│ Participan ┆     ┆ F1         ┆ F5         ┆ … ┆ F4.4       ┆ F5.7       ┆ F3.5      ┆ F2.11     │\n",
       "│ t          ┆ --- ┆ ---        ┆ ---        ┆   ┆ ---        ┆ ---        ┆ ---       ┆ ---       │\n",
       "│ ---        ┆ i64 ┆ str        ┆ str        ┆   ┆ str        ┆ str        ┆ str       ┆ str       │\n",
       "│ u32        ┆     ┆            ┆            ┆   ┆            ┆            ┆           ┆           │\n",
       "╞════════════╪═════╪════════════╪════════════╪═══╪════════════╪════════════╪═══════════╪═══════════╡\n",
       "│ 1          ┆ 1   ┆ Somewhat   ┆ Somewhat   ┆ … ┆ Somewhat   ┆ Somewhat   ┆ Somewhat  ┆ Somewhat  │\n",
       "│            ┆     ┆ Agree      ┆ Disagree   ┆   ┆ Agree      ┆ Agree      ┆ Agree     ┆ Agree     │\n",
       "│ 2          ┆ 2   ┆ Somewhat   ┆ Somewhat   ┆ … ┆ Neither    ┆ Somewhat   ┆ Neither   ┆ Somewhat  │\n",
       "│            ┆     ┆ Agree      ┆ Disagree   ┆   ┆ Agree nor  ┆ Agree      ┆ Agree nor ┆ Agree     │\n",
       "│            ┆     ┆            ┆            ┆   ┆ Disagree   ┆            ┆ Disagree  ┆           │\n",
       "└────────────┴─────┴────────────┴────────────┴───┴────────────┴────────────┴───────────┴───────────┘"
      ]
     },
     "execution_count": 19,
     "metadata": {},
     "output_type": "execute_result"
    }
   ],
   "source": [
    "health_survey = pl.read_csv('./data/health_survey.csv')\n",
    "health_survey = (health_survey\n",
    "                .with_row_index('Participant', offset=1)\n",
    "                )\n",
    "health_survey.head(2)"
   ]
  },
  {
   "cell_type": "code",
   "execution_count": 22,
   "id": "0f61f365-1f24-4903-b700-87c982189a4b",
   "metadata": {},
   "outputs": [
    {
     "data": {
      "text/html": [
       "<div><style>\n",
       ".dataframe > thead > tr,\n",
       ".dataframe > tbody > tr {\n",
       "  text-align: right;\n",
       "  white-space: pre-wrap;\n",
       "}\n",
       "</style>\n",
       "<small>shape: (5, 3)</small><table border=\"1\" class=\"dataframe\"><thead><tr><th>Participant</th><th>Question</th><th>Response</th></tr><tr><td>u32</td><td>str</td><td>str</td></tr></thead><tbody><tr><td>1</td><td>&quot;F1&quot;</td><td>&quot;Somewhat Agree&quot;</td></tr><tr><td>2</td><td>&quot;F1&quot;</td><td>&quot;Somewhat Agree&quot;</td></tr><tr><td>3</td><td>&quot;F1&quot;</td><td>&quot;Strongly Agree&quot;</td></tr><tr><td>4</td><td>&quot;F1&quot;</td><td>&quot;Somewhat Agree&quot;</td></tr><tr><td>5</td><td>&quot;F1&quot;</td><td>&quot;Strongly Agree&quot;</td></tr></tbody></table></div>"
      ],
      "text/plain": [
       "shape: (5, 3)\n",
       "┌─────────────┬──────────┬────────────────┐\n",
       "│ Participant ┆ Question ┆ Response       │\n",
       "│ ---         ┆ ---      ┆ ---            │\n",
       "│ u32         ┆ str      ┆ str            │\n",
       "╞═════════════╪══════════╪════════════════╡\n",
       "│ 1           ┆ F1       ┆ Somewhat Agree │\n",
       "│ 2           ┆ F1       ┆ Somewhat Agree │\n",
       "│ 3           ┆ F1       ┆ Strongly Agree │\n",
       "│ 4           ┆ F1       ┆ Somewhat Agree │\n",
       "│ 5           ┆ F1       ┆ Strongly Agree │\n",
       "└─────────────┴──────────┴────────────────┘"
      ]
     },
     "execution_count": 22,
     "metadata": {},
     "output_type": "execute_result"
    }
   ],
   "source": [
    "# Question 3-a \n",
    "# ***try using regular expression***\n",
    "\n",
    "question_cols = ['F1','F5','F2','F1.1','F2.1','F6','F4','F3','F5.1','F1.2','F2.2','F6.1','F2.3','F4.1','F2.4','F5.2','F2.5','F6.2','F1.3','F2.6','F5.3',\n",
    "                'F4.2','F2.7','F3.1','F2.8','F5.4','F3.2','F1.4','F3.3','F1.5','F5.5','F6.3','F1.6','F5.6','F2.9','F3.4','F4.3','F2.10','F1.7','F6.4',\n",
    "                'F4.4','F5.7','F3.5','F2.11']\n",
    "\n",
    "Q3_a = (health_survey\n",
    "          .unpivot(question_cols,\n",
    "                   index = 'Participant',\n",
    "                   variable_name = 'Question',\n",
    "                   value_name = 'Response')\n",
    "          )\n",
    "Q3_a.head()"
   ]
  },
  {
   "cell_type": "code",
   "execution_count": 23,
   "id": "849c2b96-7cb0-478b-b673-a866b89b02c5",
   "metadata": {},
   "outputs": [
    {
     "data": {
      "text/html": [
       "<div><style>\n",
       ".dataframe > thead > tr,\n",
       ".dataframe > tbody > tr {\n",
       "  text-align: right;\n",
       "  white-space: pre-wrap;\n",
       "}\n",
       "</style>\n",
       "<small>shape: (2, 5)</small><table border=\"1\" class=\"dataframe\"><thead><tr><th>Question</th><th>Construct</th><th>Question # on Qualtrics Survey</th><th>Needs Reverse Coding?</th><th>Column Name</th></tr><tr><td>str</td><td>i64</td><td>i64</td><td>str</td><td>str</td></tr></thead><tbody><tr><td>&quot;In the future, I plan to parti…</td><td>1</td><td>1</td><td>&quot;No&quot;</td><td>&quot;F1&quot;</td></tr><tr><td>&quot;Individuals are responsible fo…</td><td>5</td><td>2</td><td>&quot;Yes&quot;</td><td>&quot;F5&quot;</td></tr></tbody></table></div>"
      ],
      "text/plain": [
       "shape: (2, 5)\n",
       "┌─────────────────────────────┬───────────┬──────────────────┬───────────────────────┬─────────────┐\n",
       "│ Question                    ┆ Construct ┆ Question # on    ┆ Needs Reverse Coding? ┆ Column Name │\n",
       "│ ---                         ┆ ---       ┆ Qualtrics Survey ┆ ---                   ┆ ---         │\n",
       "│ str                         ┆ i64       ┆ ---              ┆ str                   ┆ str         │\n",
       "│                             ┆           ┆ i64              ┆                       ┆             │\n",
       "╞═════════════════════════════╪═══════════╪══════════════════╪═══════════════════════╪═════════════╡\n",
       "│ In the future, I plan to    ┆ 1         ┆ 1                ┆ No                    ┆ F1          │\n",
       "│ parti…                      ┆           ┆                  ┆                       ┆             │\n",
       "│ Individuals are responsible ┆ 5         ┆ 2                ┆ Yes                   ┆ F5          │\n",
       "│ fo…                         ┆           ┆                  ┆                       ┆             │\n",
       "└─────────────────────────────┴───────────┴──────────────────┴───────────────────────┴─────────────┘"
      ]
     },
     "execution_count": 23,
     "metadata": {},
     "output_type": "execute_result"
    }
   ],
   "source": [
    "reverse_coding = pl.read_csv('./data/ReverseCodingItems.csv')\n",
    "reverse_coding.head(2)"
   ]
  },
  {
   "cell_type": "code",
   "execution_count": 31,
   "id": "12a569e8-2fc6-48ac-83de-b901664939a0",
   "metadata": {},
   "outputs": [
    {
     "data": {
      "text/html": [
       "<div><style>\n",
       ".dataframe > thead > tr,\n",
       ".dataframe > tbody > tr {\n",
       "  text-align: right;\n",
       "  white-space: pre-wrap;\n",
       "}\n",
       "</style>\n",
       "<small>shape: (5, 4)</small><table border=\"1\" class=\"dataframe\"><thead><tr><th>Participant</th><th>Question</th><th>Response</th><th>NeedsReverse</th></tr><tr><td>u32</td><td>str</td><td>str</td><td>str</td></tr></thead><tbody><tr><td>1</td><td>&quot;F1&quot;</td><td>&quot;Somewhat Agree&quot;</td><td>&quot;No&quot;</td></tr><tr><td>2</td><td>&quot;F1&quot;</td><td>&quot;Somewhat Agree&quot;</td><td>&quot;No&quot;</td></tr><tr><td>3</td><td>&quot;F1&quot;</td><td>&quot;Strongly Agree&quot;</td><td>&quot;No&quot;</td></tr><tr><td>4</td><td>&quot;F1&quot;</td><td>&quot;Somewhat Agree&quot;</td><td>&quot;No&quot;</td></tr><tr><td>5</td><td>&quot;F1&quot;</td><td>&quot;Strongly Agree&quot;</td><td>&quot;No&quot;</td></tr></tbody></table></div>"
      ],
      "text/plain": [
       "shape: (5, 4)\n",
       "┌─────────────┬──────────┬────────────────┬──────────────┐\n",
       "│ Participant ┆ Question ┆ Response       ┆ NeedsReverse │\n",
       "│ ---         ┆ ---      ┆ ---            ┆ ---          │\n",
       "│ u32         ┆ str      ┆ str            ┆ str          │\n",
       "╞═════════════╪══════════╪════════════════╪══════════════╡\n",
       "│ 1           ┆ F1       ┆ Somewhat Agree ┆ No           │\n",
       "│ 2           ┆ F1       ┆ Somewhat Agree ┆ No           │\n",
       "│ 3           ┆ F1       ┆ Strongly Agree ┆ No           │\n",
       "│ 4           ┆ F1       ┆ Somewhat Agree ┆ No           │\n",
       "│ 5           ┆ F1       ┆ Strongly Agree ┆ No           │\n",
       "└─────────────┴──────────┴────────────────┴──────────────┘"
      ]
     },
     "execution_count": 31,
     "metadata": {},
     "output_type": "execute_result"
    }
   ],
   "source": [
    "# Question 3-b\n",
    "\n",
    "Q3_b = (Q3_a\n",
    "        .join(reverse_coding,\n",
    "             left_on = 'Question',\n",
    "             right_on = 'Column Name',\n",
    "             how = 'left')\n",
    "        .rename({'Needs Reverse Coding?': 'NeedsReverse'})\n",
    "        .drop(['Question_right','Construct','Question # on Qualtrics Survey'])\n",
    "       )\n",
    "Q3_b.head()"
   ]
  },
  {
   "cell_type": "code",
   "execution_count": 59,
   "id": "9485984c-99f3-45a8-bc5f-87f6e4a14a85",
   "metadata": {},
   "outputs": [
    {
     "data": {
      "text/html": [
       "<div><style>\n",
       ".dataframe > thead > tr,\n",
       ".dataframe > tbody > tr {\n",
       "  text-align: right;\n",
       "  white-space: pre-wrap;\n",
       "}\n",
       "</style>\n",
       "<small>shape: (5, 5)</small><table border=\"1\" class=\"dataframe\"><thead><tr><th>Participant</th><th>Question</th><th>Response</th><th>NeedsReverse</th><th>TempRecodeValue</th></tr><tr><td>u32</td><td>str</td><td>str</td><td>str</td><td>i32</td></tr></thead><tbody><tr><td>1</td><td>&quot;F1&quot;</td><td>&quot;Somewhat Agree&quot;</td><td>&quot;No&quot;</td><td>4</td></tr><tr><td>2</td><td>&quot;F1&quot;</td><td>&quot;Somewhat Agree&quot;</td><td>&quot;No&quot;</td><td>4</td></tr><tr><td>3</td><td>&quot;F1&quot;</td><td>&quot;Strongly Agree&quot;</td><td>&quot;No&quot;</td><td>5</td></tr><tr><td>4</td><td>&quot;F1&quot;</td><td>&quot;Somewhat Agree&quot;</td><td>&quot;No&quot;</td><td>4</td></tr><tr><td>5</td><td>&quot;F1&quot;</td><td>&quot;Strongly Agree&quot;</td><td>&quot;No&quot;</td><td>5</td></tr></tbody></table></div>"
      ],
      "text/plain": [
       "shape: (5, 5)\n",
       "┌─────────────┬──────────┬────────────────┬──────────────┬─────────────────┐\n",
       "│ Participant ┆ Question ┆ Response       ┆ NeedsReverse ┆ TempRecodeValue │\n",
       "│ ---         ┆ ---      ┆ ---            ┆ ---          ┆ ---             │\n",
       "│ u32         ┆ str      ┆ str            ┆ str          ┆ i32             │\n",
       "╞═════════════╪══════════╪════════════════╪══════════════╪═════════════════╡\n",
       "│ 1           ┆ F1       ┆ Somewhat Agree ┆ No           ┆ 4               │\n",
       "│ 2           ┆ F1       ┆ Somewhat Agree ┆ No           ┆ 4               │\n",
       "│ 3           ┆ F1       ┆ Strongly Agree ┆ No           ┆ 5               │\n",
       "│ 4           ┆ F1       ┆ Somewhat Agree ┆ No           ┆ 4               │\n",
       "│ 5           ┆ F1       ┆ Strongly Agree ┆ No           ┆ 5               │\n",
       "└─────────────┴──────────┴────────────────┴──────────────┴─────────────────┘"
      ]
     },
     "execution_count": 59,
     "metadata": {},
     "output_type": "execute_result"
    }
   ],
   "source": [
    "# Question 3-c\n",
    "\n",
    "Q3_c = (Q3_b\n",
    "       .with_columns(TempRecodeValue = pl.when(pl.col('Response') == 'Strongly Disagree')\n",
    "                                         .then(1)\n",
    "                                         .when(pl.col('Response') == 'Somewhat Disagree')\n",
    "                                         .then(2)\n",
    "                                         .when(pl.col('Response') == 'Neither Agree nor Disagree')\n",
    "                                         .then(3)\n",
    "                                         .when(pl.col('Response') == 'Somewhat Agree')\n",
    "                                         .then(4)\n",
    "                                         .when(pl.col('Response') == 'Strongly Agree')\n",
    "                                         .then(5)\n",
    "                    )\n",
    "       )\n",
    "Q3_c.head()"
   ]
  },
  {
   "cell_type": "code",
   "execution_count": 60,
   "id": "fff71c16-7c98-4794-a577-07b906bfce6e",
   "metadata": {},
   "outputs": [
    {
     "data": {
      "text/html": [
       "<div><style>\n",
       ".dataframe > thead > tr,\n",
       ".dataframe > tbody > tr {\n",
       "  text-align: right;\n",
       "  white-space: pre-wrap;\n",
       "}\n",
       "</style>\n",
       "<small>shape: (5, 6)</small><table border=\"1\" class=\"dataframe\"><thead><tr><th>Participant</th><th>Question</th><th>Response</th><th>NeedsReverse</th><th>TempRecodeValue</th><th>TempReverseValue</th></tr><tr><td>u32</td><td>str</td><td>str</td><td>str</td><td>i32</td><td>i32</td></tr></thead><tbody><tr><td>1</td><td>&quot;F1&quot;</td><td>&quot;Somewhat Agree&quot;</td><td>&quot;No&quot;</td><td>4</td><td>2</td></tr><tr><td>2</td><td>&quot;F1&quot;</td><td>&quot;Somewhat Agree&quot;</td><td>&quot;No&quot;</td><td>4</td><td>2</td></tr><tr><td>3</td><td>&quot;F1&quot;</td><td>&quot;Strongly Agree&quot;</td><td>&quot;No&quot;</td><td>5</td><td>1</td></tr><tr><td>4</td><td>&quot;F1&quot;</td><td>&quot;Somewhat Agree&quot;</td><td>&quot;No&quot;</td><td>4</td><td>2</td></tr><tr><td>5</td><td>&quot;F1&quot;</td><td>&quot;Strongly Agree&quot;</td><td>&quot;No&quot;</td><td>5</td><td>1</td></tr></tbody></table></div>"
      ],
      "text/plain": [
       "shape: (5, 6)\n",
       "┌─────────────┬──────────┬────────────────┬──────────────┬─────────────────┬──────────────────┐\n",
       "│ Participant ┆ Question ┆ Response       ┆ NeedsReverse ┆ TempRecodeValue ┆ TempReverseValue │\n",
       "│ ---         ┆ ---      ┆ ---            ┆ ---          ┆ ---             ┆ ---              │\n",
       "│ u32         ┆ str      ┆ str            ┆ str          ┆ i32             ┆ i32              │\n",
       "╞═════════════╪══════════╪════════════════╪══════════════╪═════════════════╪══════════════════╡\n",
       "│ 1           ┆ F1       ┆ Somewhat Agree ┆ No           ┆ 4               ┆ 2                │\n",
       "│ 2           ┆ F1       ┆ Somewhat Agree ┆ No           ┆ 4               ┆ 2                │\n",
       "│ 3           ┆ F1       ┆ Strongly Agree ┆ No           ┆ 5               ┆ 1                │\n",
       "│ 4           ┆ F1       ┆ Somewhat Agree ┆ No           ┆ 4               ┆ 2                │\n",
       "│ 5           ┆ F1       ┆ Strongly Agree ┆ No           ┆ 5               ┆ 1                │\n",
       "└─────────────┴──────────┴────────────────┴──────────────┴─────────────────┴──────────────────┘"
      ]
     },
     "execution_count": 60,
     "metadata": {},
     "output_type": "execute_result"
    }
   ],
   "source": [
    "# Question 3-d\n",
    "\n",
    "Q3_d = (Q3_c\n",
    "       .with_columns(TempReverseValue = pl.when(pl.col('Response') == 'Strongly Disagree')\n",
    "                                         .then(5)\n",
    "                                         .when(pl.col('Response') == 'Somewhat Disagree')\n",
    "                                         .then(4)\n",
    "                                         .when(pl.col('Response') == 'Neither Agree nor Disagree')\n",
    "                                         .then(3)\n",
    "                                         .when(pl.col('Response') == 'Somewhat Agree')\n",
    "                                         .then(2)\n",
    "                                         .when(pl.col('Response') == 'Strongly Agree')\n",
    "                                         .then(1)\n",
    "                    )\n",
    "       )\n",
    "Q3_d.head()"
   ]
  },
  {
   "cell_type": "code",
   "execution_count": 61,
   "id": "95671b63-1ebc-4d74-a160-df2e8090e1cf",
   "metadata": {},
   "outputs": [
    {
     "data": {
      "text/html": [
       "<div><style>\n",
       ".dataframe > thead > tr,\n",
       ".dataframe > tbody > tr {\n",
       "  text-align: right;\n",
       "  white-space: pre-wrap;\n",
       "}\n",
       "</style>\n",
       "<small>shape: (5, 7)</small><table border=\"1\" class=\"dataframe\"><thead><tr><th>Participant</th><th>Question</th><th>Response</th><th>NeedsReverse</th><th>TempRecodeValue</th><th>TempReverseValue</th><th>RecodedValue</th></tr><tr><td>u32</td><td>str</td><td>str</td><td>str</td><td>i32</td><td>i32</td><td>i32</td></tr></thead><tbody><tr><td>1</td><td>&quot;F1&quot;</td><td>&quot;Somewhat Agree&quot;</td><td>&quot;No&quot;</td><td>4</td><td>2</td><td>4</td></tr><tr><td>2</td><td>&quot;F1&quot;</td><td>&quot;Somewhat Agree&quot;</td><td>&quot;No&quot;</td><td>4</td><td>2</td><td>4</td></tr><tr><td>3</td><td>&quot;F1&quot;</td><td>&quot;Strongly Agree&quot;</td><td>&quot;No&quot;</td><td>5</td><td>1</td><td>5</td></tr><tr><td>4</td><td>&quot;F1&quot;</td><td>&quot;Somewhat Agree&quot;</td><td>&quot;No&quot;</td><td>4</td><td>2</td><td>4</td></tr><tr><td>5</td><td>&quot;F1&quot;</td><td>&quot;Strongly Agree&quot;</td><td>&quot;No&quot;</td><td>5</td><td>1</td><td>5</td></tr></tbody></table></div>"
      ],
      "text/plain": [
       "shape: (5, 7)\n",
       "┌─────────────┬──────────┬──────────┬───────────────┬───────────────┬───────────────┬──────────────┐\n",
       "│ Participant ┆ Question ┆ Response ┆ NeedsReverse  ┆ TempRecodeVal ┆ TempReverseVa ┆ RecodedValue │\n",
       "│ ---         ┆ ---      ┆ ---      ┆ ---           ┆ ue            ┆ lue           ┆ ---          │\n",
       "│ u32         ┆ str      ┆ str      ┆ str           ┆ ---           ┆ ---           ┆ i32          │\n",
       "│             ┆          ┆          ┆               ┆ i32           ┆ i32           ┆              │\n",
       "╞═════════════╪══════════╪══════════╪═══════════════╪═══════════════╪═══════════════╪══════════════╡\n",
       "│ 1           ┆ F1       ┆ Somewhat ┆ No            ┆ 4             ┆ 2             ┆ 4            │\n",
       "│             ┆          ┆ Agree    ┆               ┆               ┆               ┆              │\n",
       "│ 2           ┆ F1       ┆ Somewhat ┆ No            ┆ 4             ┆ 2             ┆ 4            │\n",
       "│             ┆          ┆ Agree    ┆               ┆               ┆               ┆              │\n",
       "│ 3           ┆ F1       ┆ Strongly ┆ No            ┆ 5             ┆ 1             ┆ 5            │\n",
       "│             ┆          ┆ Agree    ┆               ┆               ┆               ┆              │\n",
       "│ 4           ┆ F1       ┆ Somewhat ┆ No            ┆ 4             ┆ 2             ┆ 4            │\n",
       "│             ┆          ┆ Agree    ┆               ┆               ┆               ┆              │\n",
       "│ 5           ┆ F1       ┆ Strongly ┆ No            ┆ 5             ┆ 1             ┆ 5            │\n",
       "│             ┆          ┆ Agree    ┆               ┆               ┆               ┆              │\n",
       "└─────────────┴──────────┴──────────┴───────────────┴───────────────┴───────────────┴──────────────┘"
      ]
     },
     "execution_count": 61,
     "metadata": {},
     "output_type": "execute_result"
    }
   ],
   "source": [
    "# Question 3-e\n",
    "\n",
    "Q3_e = (Q3_d\n",
    "       .with_columns(RecodedValue = pl.when(pl.col('NeedsReverse') == 'No')\n",
    "                                      .then(pl.col('TempRecodeValue'))\n",
    "                                      .when(pl.col('NeedsReverse') == 'Yes')\n",
    "                                      .then(pl.col('TempReverseValue'))\n",
    "                    )\n",
    "       )\n",
    "Q3_e.head()"
   ]
  },
  {
   "cell_type": "code",
   "execution_count": 62,
   "id": "f5cfd243-a4fe-4e7c-9c82-83f1dceadb1b",
   "metadata": {},
   "outputs": [
    {
     "data": {
      "text/html": [
       "<div><style>\n",
       ".dataframe > thead > tr,\n",
       ".dataframe > tbody > tr {\n",
       "  text-align: right;\n",
       "  white-space: pre-wrap;\n",
       "}\n",
       "</style>\n",
       "<small>shape: (5, 8)</small><table border=\"1\" class=\"dataframe\"><thead><tr><th>Participant</th><th>Question</th><th>Response</th><th>NeedsReverse</th><th>TempRecodeValue</th><th>TempReverseValue</th><th>RecodedValue</th><th>QuestionType</th></tr><tr><td>u32</td><td>str</td><td>str</td><td>str</td><td>i32</td><td>i32</td><td>i32</td><td>str</td></tr></thead><tbody><tr><td>1</td><td>&quot;F1&quot;</td><td>&quot;Somewhat Agree&quot;</td><td>&quot;No&quot;</td><td>4</td><td>2</td><td>4</td><td>&quot;F1&quot;</td></tr><tr><td>2</td><td>&quot;F1&quot;</td><td>&quot;Somewhat Agree&quot;</td><td>&quot;No&quot;</td><td>4</td><td>2</td><td>4</td><td>&quot;F1&quot;</td></tr><tr><td>3</td><td>&quot;F1&quot;</td><td>&quot;Strongly Agree&quot;</td><td>&quot;No&quot;</td><td>5</td><td>1</td><td>5</td><td>&quot;F1&quot;</td></tr><tr><td>4</td><td>&quot;F1&quot;</td><td>&quot;Somewhat Agree&quot;</td><td>&quot;No&quot;</td><td>4</td><td>2</td><td>4</td><td>&quot;F1&quot;</td></tr><tr><td>5</td><td>&quot;F1&quot;</td><td>&quot;Strongly Agree&quot;</td><td>&quot;No&quot;</td><td>5</td><td>1</td><td>5</td><td>&quot;F1&quot;</td></tr></tbody></table></div>"
      ],
      "text/plain": [
       "shape: (5, 8)\n",
       "┌────────────┬──────────┬────────────┬────────────┬────────────┬───────────┬───────────┬───────────┐\n",
       "│ Participan ┆ Question ┆ Response   ┆ NeedsRever ┆ TempRecode ┆ TempRever ┆ RecodedVa ┆ QuestionT │\n",
       "│ t          ┆ ---      ┆ ---        ┆ se         ┆ Value      ┆ seValue   ┆ lue       ┆ ype       │\n",
       "│ ---        ┆ str      ┆ str        ┆ ---        ┆ ---        ┆ ---       ┆ ---       ┆ ---       │\n",
       "│ u32        ┆          ┆            ┆ str        ┆ i32        ┆ i32       ┆ i32       ┆ str       │\n",
       "╞════════════╪══════════╪════════════╪════════════╪════════════╪═══════════╪═══════════╪═══════════╡\n",
       "│ 1          ┆ F1       ┆ Somewhat   ┆ No         ┆ 4          ┆ 2         ┆ 4         ┆ F1        │\n",
       "│            ┆          ┆ Agree      ┆            ┆            ┆           ┆           ┆           │\n",
       "│ 2          ┆ F1       ┆ Somewhat   ┆ No         ┆ 4          ┆ 2         ┆ 4         ┆ F1        │\n",
       "│            ┆          ┆ Agree      ┆            ┆            ┆           ┆           ┆           │\n",
       "│ 3          ┆ F1       ┆ Strongly   ┆ No         ┆ 5          ┆ 1         ┆ 5         ┆ F1        │\n",
       "│            ┆          ┆ Agree      ┆            ┆            ┆           ┆           ┆           │\n",
       "│ 4          ┆ F1       ┆ Somewhat   ┆ No         ┆ 4          ┆ 2         ┆ 4         ┆ F1        │\n",
       "│            ┆          ┆ Agree      ┆            ┆            ┆           ┆           ┆           │\n",
       "│ 5          ┆ F1       ┆ Strongly   ┆ No         ┆ 5          ┆ 1         ┆ 5         ┆ F1        │\n",
       "│            ┆          ┆ Agree      ┆            ┆            ┆           ┆           ┆           │\n",
       "└────────────┴──────────┴────────────┴────────────┴────────────┴───────────┴───────────┴───────────┘"
      ]
     },
     "execution_count": 62,
     "metadata": {},
     "output_type": "execute_result"
    }
   ],
   "source": [
    "# Question 3-f\n",
    "\n",
    "Q3_f = (Q3_e\n",
    "        .with_columns(QuestionType = pl.col('Question').str.split('.').list.get(0))\n",
    "        #.select(pl.col('QuestionType')).unique()\n",
    "       )\n",
    "Q3_f.head()"
   ]
  },
  {
   "cell_type": "code",
   "execution_count": 64,
   "id": "195bd847-e9c9-4894-a89b-f7c33f6d45cf",
   "metadata": {},
   "outputs": [
    {
     "data": {
      "text/html": [
       "<div><style>\n",
       ".dataframe > thead > tr,\n",
       ".dataframe > tbody > tr {\n",
       "  text-align: right;\n",
       "  white-space: pre-wrap;\n",
       "}\n",
       "</style>\n",
       "<small>shape: (5, 3)</small><table border=\"1\" class=\"dataframe\"><thead><tr><th>Participant</th><th>QuestionType</th><th>RecodedValue</th></tr><tr><td>u32</td><td>str</td><td>i32</td></tr></thead><tbody><tr><td>1</td><td>&quot;F1&quot;</td><td>31</td></tr><tr><td>1</td><td>&quot;F2&quot;</td><td>48</td></tr><tr><td>1</td><td>&quot;F3&quot;</td><td>20</td></tr><tr><td>1</td><td>&quot;F4&quot;</td><td>17</td></tr><tr><td>1</td><td>&quot;F5&quot;</td><td>28</td></tr></tbody></table></div>"
      ],
      "text/plain": [
       "shape: (5, 3)\n",
       "┌─────────────┬──────────────┬──────────────┐\n",
       "│ Participant ┆ QuestionType ┆ RecodedValue │\n",
       "│ ---         ┆ ---          ┆ ---          │\n",
       "│ u32         ┆ str          ┆ i32          │\n",
       "╞═════════════╪══════════════╪══════════════╡\n",
       "│ 1           ┆ F1           ┆ 31           │\n",
       "│ 1           ┆ F2           ┆ 48           │\n",
       "│ 1           ┆ F3           ┆ 20           │\n",
       "│ 1           ┆ F4           ┆ 17           │\n",
       "│ 1           ┆ F5           ┆ 28           │\n",
       "└─────────────┴──────────────┴──────────────┘"
      ]
     },
     "execution_count": 64,
     "metadata": {},
     "output_type": "execute_result"
    }
   ],
   "source": [
    "# Question 3-g\n",
    "\n",
    "Q3_g = (Q3_f\n",
    "       .group_by(['Participant','QuestionType'])\n",
    "       .agg(pl.col('RecodedValue').sum())\n",
    "       .sort(['Participant','QuestionType'])\n",
    "       )\n",
    "Q3_g.head()"
   ]
  },
  {
   "cell_type": "code",
   "execution_count": 75,
   "id": "e65bed87-62c2-4c70-8959-2c5b270eaefa",
   "metadata": {},
   "outputs": [
    {
     "data": {
      "text/html": [
       "<div><style>\n",
       ".dataframe > thead > tr,\n",
       ".dataframe > tbody > tr {\n",
       "  text-align: right;\n",
       "  white-space: pre-wrap;\n",
       "}\n",
       "</style>\n",
       "<small>shape: (5, 7)</small><table border=\"1\" class=\"dataframe\"><thead><tr><th>Participant</th><th>F1</th><th>F2</th><th>F3</th><th>F4</th><th>F5</th><th>F6</th></tr><tr><td>u32</td><td>i32</td><td>i32</td><td>i32</td><td>i32</td><td>i32</td><td>i32</td></tr></thead><tbody><tr><td>1</td><td>31</td><td>48</td><td>20</td><td>17</td><td>28</td><td>18</td></tr><tr><td>2</td><td>31</td><td>47</td><td>19</td><td>17</td><td>27</td><td>20</td></tr><tr><td>3</td><td>36</td><td>46</td><td>19</td><td>18</td><td>32</td><td>17</td></tr><tr><td>4</td><td>32</td><td>54</td><td>12</td><td>15</td><td>30</td><td>16</td></tr><tr><td>5</td><td>37</td><td>47</td><td>22</td><td>19</td><td>36</td><td>19</td></tr></tbody></table></div>"
      ],
      "text/plain": [
       "shape: (5, 7)\n",
       "┌─────────────┬─────┬─────┬─────┬─────┬─────┬─────┐\n",
       "│ Participant ┆ F1  ┆ F2  ┆ F3  ┆ F4  ┆ F5  ┆ F6  │\n",
       "│ ---         ┆ --- ┆ --- ┆ --- ┆ --- ┆ --- ┆ --- │\n",
       "│ u32         ┆ i32 ┆ i32 ┆ i32 ┆ i32 ┆ i32 ┆ i32 │\n",
       "╞═════════════╪═════╪═════╪═════╪═════╪═════╪═════╡\n",
       "│ 1           ┆ 31  ┆ 48  ┆ 20  ┆ 17  ┆ 28  ┆ 18  │\n",
       "│ 2           ┆ 31  ┆ 47  ┆ 19  ┆ 17  ┆ 27  ┆ 20  │\n",
       "│ 3           ┆ 36  ┆ 46  ┆ 19  ┆ 18  ┆ 32  ┆ 17  │\n",
       "│ 4           ┆ 32  ┆ 54  ┆ 12  ┆ 15  ┆ 30  ┆ 16  │\n",
       "│ 5           ┆ 37  ┆ 47  ┆ 22  ┆ 19  ┆ 36  ┆ 19  │\n",
       "└─────────────┴─────┴─────┴─────┴─────┴─────┴─────┘"
      ]
     },
     "execution_count": 75,
     "metadata": {},
     "output_type": "execute_result"
    }
   ],
   "source": [
    "# Question 4\n",
    "\n",
    "Q4 = (Q3_g\n",
    "     .pivot('QuestionType',\n",
    "            index = 'Participant',\n",
    "            values = 'RecodedValue'\n",
    "           )\n",
    "     )\n",
    "Q4.head()"
   ]
  },
  {
   "cell_type": "code",
   "execution_count": 76,
   "id": "9367c24c-5894-40ab-9d95-6ed201dd547c",
   "metadata": {},
   "outputs": [],
   "source": [
    "FinalTable_lab_1_2 = Q4\n",
    "FinalTable_lab_1_2.write_csv('./data/FinalTable_lab_1_2.csv')"
   ]
  }
 ],
 "metadata": {
  "kernelspec": {
   "display_name": "Python 3 (ipykernel)",
   "language": "python",
   "name": "python3"
  },
  "language_info": {
   "codemirror_mode": {
    "name": "ipython",
    "version": 3
   },
   "file_extension": ".py",
   "mimetype": "text/x-python",
   "name": "python",
   "nbconvert_exporter": "python",
   "pygments_lexer": "ipython3",
   "version": "3.12.5"
  }
 },
 "nbformat": 4,
 "nbformat_minor": 5
}
